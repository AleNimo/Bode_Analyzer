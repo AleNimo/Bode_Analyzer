{
 "cells": [
  {
   "cell_type": "code",
   "execution_count": 1,
   "metadata": {
    "colab": {
     "base_uri": "https://localhost:8080/",
     "height": 897
    },
    "executionInfo": {
     "elapsed": 1730,
     "status": "ok",
     "timestamp": 1672071681439,
     "user": {
      "displayName": "JOAQUÍN IGNACIO LÓPEZ TRAMULLAS",
      "userId": "08342125477604257516"
     },
     "user_tz": 180
    },
    "id": "BvrOLVs4zlby",
    "outputId": "b1b884d7-ccc1-46b8-e4f2-ea52c83ffa82"
   },
   "outputs": [
    {
     "ename": "ModuleNotFoundError",
     "evalue": "No module named 'numpy.compat'",
     "output_type": "error",
     "traceback": [
      "\u001b[1;31m---------------------------------------------------------------------------\u001b[0m",
      "\u001b[1;31mModuleNotFoundError\u001b[0m                       Traceback (most recent call last)",
      "\u001b[1;32m~\\AppData\\Local\\Temp\\ipykernel_17104\\167715864.py\u001b[0m in \u001b[0;36m<module>\u001b[1;34m\u001b[0m\n\u001b[0;32m      1\u001b[0m \u001b[1;32mimport\u001b[0m \u001b[0mnumpy\u001b[0m \u001b[1;32mas\u001b[0m \u001b[0mnp\u001b[0m\u001b[1;33m\u001b[0m\u001b[1;33m\u001b[0m\u001b[0m\n\u001b[1;32m----> 2\u001b[1;33m \u001b[1;32mimport\u001b[0m \u001b[0mmatplotlib\u001b[0m\u001b[1;33m.\u001b[0m\u001b[0mpyplot\u001b[0m \u001b[1;32mas\u001b[0m \u001b[0mplt\u001b[0m\u001b[1;33m\u001b[0m\u001b[1;33m\u001b[0m\u001b[0m\n\u001b[0m\u001b[0;32m      3\u001b[0m \u001b[1;33m\u001b[0m\u001b[0m\n\u001b[0;32m      4\u001b[0m \u001b[0mplt\u001b[0m\u001b[1;33m.\u001b[0m\u001b[0mrcParams\u001b[0m\u001b[1;33m.\u001b[0m\u001b[0mupdate\u001b[0m\u001b[1;33m(\u001b[0m\u001b[1;33m{\u001b[0m\u001b[1;34m'font.size'\u001b[0m\u001b[1;33m:\u001b[0m \u001b[1;36m22\u001b[0m\u001b[1;33m}\u001b[0m\u001b[1;33m)\u001b[0m\u001b[1;33m\u001b[0m\u001b[1;33m\u001b[0m\u001b[0m\n\u001b[0;32m      5\u001b[0m \u001b[1;33m\u001b[0m\u001b[0m\n",
      "\u001b[1;32mD:\\anaconda3\\lib\\site-packages\\matplotlib\\__init__.py\u001b[0m in \u001b[0;36m<module>\u001b[1;34m\u001b[0m\n\u001b[0;32m    107\u001b[0m \u001b[1;31m# cbook must import matplotlib only within function\u001b[0m\u001b[1;33m\u001b[0m\u001b[1;33m\u001b[0m\u001b[0m\n\u001b[0;32m    108\u001b[0m \u001b[1;31m# definitions, so it is safe to import from it here.\u001b[0m\u001b[1;33m\u001b[0m\u001b[1;33m\u001b[0m\u001b[0m\n\u001b[1;32m--> 109\u001b[1;33m \u001b[1;32mfrom\u001b[0m \u001b[1;33m.\u001b[0m \u001b[1;32mimport\u001b[0m \u001b[0m_api\u001b[0m\u001b[1;33m,\u001b[0m \u001b[0m_version\u001b[0m\u001b[1;33m,\u001b[0m \u001b[0mcbook\u001b[0m\u001b[1;33m,\u001b[0m \u001b[0mdocstring\u001b[0m\u001b[1;33m,\u001b[0m \u001b[0mrcsetup\u001b[0m\u001b[1;33m\u001b[0m\u001b[1;33m\u001b[0m\u001b[0m\n\u001b[0m\u001b[0;32m    110\u001b[0m \u001b[1;32mfrom\u001b[0m \u001b[0mmatplotlib\u001b[0m\u001b[1;33m.\u001b[0m\u001b[0mcbook\u001b[0m \u001b[1;32mimport\u001b[0m \u001b[0mMatplotlibDeprecationWarning\u001b[0m\u001b[1;33m,\u001b[0m \u001b[0msanitize_sequence\u001b[0m\u001b[1;33m\u001b[0m\u001b[1;33m\u001b[0m\u001b[0m\n\u001b[0;32m    111\u001b[0m \u001b[1;32mfrom\u001b[0m \u001b[0mmatplotlib\u001b[0m\u001b[1;33m.\u001b[0m\u001b[0mcbook\u001b[0m \u001b[1;32mimport\u001b[0m \u001b[0mmplDeprecation\u001b[0m  \u001b[1;31m# deprecated\u001b[0m\u001b[1;33m\u001b[0m\u001b[1;33m\u001b[0m\u001b[0m\n",
      "\u001b[1;32mD:\\anaconda3\\lib\\site-packages\\matplotlib\\rcsetup.py\u001b[0m in \u001b[0;36m<module>\u001b[1;34m\u001b[0m\n\u001b[0;32m     25\u001b[0m \u001b[1;32mfrom\u001b[0m \u001b[0mmatplotlib\u001b[0m \u001b[1;32mimport\u001b[0m \u001b[0m_api\u001b[0m\u001b[1;33m,\u001b[0m \u001b[0mcbook\u001b[0m\u001b[1;33m\u001b[0m\u001b[1;33m\u001b[0m\u001b[0m\n\u001b[0;32m     26\u001b[0m \u001b[1;32mfrom\u001b[0m \u001b[0mmatplotlib\u001b[0m\u001b[1;33m.\u001b[0m\u001b[0mcbook\u001b[0m \u001b[1;32mimport\u001b[0m \u001b[0mls_mapper\u001b[0m\u001b[1;33m\u001b[0m\u001b[1;33m\u001b[0m\u001b[0m\n\u001b[1;32m---> 27\u001b[1;33m \u001b[1;32mfrom\u001b[0m \u001b[0mmatplotlib\u001b[0m\u001b[1;33m.\u001b[0m\u001b[0mcolors\u001b[0m \u001b[1;32mimport\u001b[0m \u001b[0mColormap\u001b[0m\u001b[1;33m,\u001b[0m \u001b[0mis_color_like\u001b[0m\u001b[1;33m\u001b[0m\u001b[1;33m\u001b[0m\u001b[0m\n\u001b[0m\u001b[0;32m     28\u001b[0m \u001b[1;32mfrom\u001b[0m \u001b[0mmatplotlib\u001b[0m\u001b[1;33m.\u001b[0m\u001b[0mfontconfig_pattern\u001b[0m \u001b[1;32mimport\u001b[0m \u001b[0mparse_fontconfig_pattern\u001b[0m\u001b[1;33m\u001b[0m\u001b[1;33m\u001b[0m\u001b[0m\n\u001b[0;32m     29\u001b[0m \u001b[1;32mfrom\u001b[0m \u001b[0mmatplotlib\u001b[0m\u001b[1;33m.\u001b[0m\u001b[0m_enums\u001b[0m \u001b[1;32mimport\u001b[0m \u001b[0mJoinStyle\u001b[0m\u001b[1;33m,\u001b[0m \u001b[0mCapStyle\u001b[0m\u001b[1;33m\u001b[0m\u001b[1;33m\u001b[0m\u001b[0m\n",
      "\u001b[1;32mD:\\anaconda3\\lib\\site-packages\\matplotlib\\colors.py\u001b[0m in \u001b[0;36m<module>\u001b[1;34m\u001b[0m\n\u001b[0;32m     54\u001b[0m \u001b[1;32mimport\u001b[0m \u001b[0mmatplotlib\u001b[0m \u001b[1;32mas\u001b[0m \u001b[0mmpl\u001b[0m\u001b[1;33m\u001b[0m\u001b[1;33m\u001b[0m\u001b[0m\n\u001b[0;32m     55\u001b[0m \u001b[1;32mimport\u001b[0m \u001b[0mnumpy\u001b[0m \u001b[1;32mas\u001b[0m \u001b[0mnp\u001b[0m\u001b[1;33m\u001b[0m\u001b[1;33m\u001b[0m\u001b[0m\n\u001b[1;32m---> 56\u001b[1;33m \u001b[1;32mfrom\u001b[0m \u001b[0mmatplotlib\u001b[0m \u001b[1;32mimport\u001b[0m \u001b[0m_api\u001b[0m\u001b[1;33m,\u001b[0m \u001b[0mcbook\u001b[0m\u001b[1;33m,\u001b[0m \u001b[0mscale\u001b[0m\u001b[1;33m\u001b[0m\u001b[1;33m\u001b[0m\u001b[0m\n\u001b[0m\u001b[0;32m     57\u001b[0m \u001b[1;32mfrom\u001b[0m \u001b[1;33m.\u001b[0m\u001b[0m_color_data\u001b[0m \u001b[1;32mimport\u001b[0m \u001b[0mBASE_COLORS\u001b[0m\u001b[1;33m,\u001b[0m \u001b[0mTABLEAU_COLORS\u001b[0m\u001b[1;33m,\u001b[0m \u001b[0mCSS4_COLORS\u001b[0m\u001b[1;33m,\u001b[0m \u001b[0mXKCD_COLORS\u001b[0m\u001b[1;33m\u001b[0m\u001b[1;33m\u001b[0m\u001b[0m\n\u001b[0;32m     58\u001b[0m \u001b[1;33m\u001b[0m\u001b[0m\n",
      "\u001b[1;32mD:\\anaconda3\\lib\\site-packages\\matplotlib\\scale.py\u001b[0m in \u001b[0;36m<module>\u001b[1;34m\u001b[0m\n\u001b[0;32m     17\u001b[0m \u001b[1;33m\u001b[0m\u001b[0m\n\u001b[0;32m     18\u001b[0m \u001b[1;32mimport\u001b[0m \u001b[0mnumpy\u001b[0m \u001b[1;32mas\u001b[0m \u001b[0mnp\u001b[0m\u001b[1;33m\u001b[0m\u001b[1;33m\u001b[0m\u001b[0m\n\u001b[1;32m---> 19\u001b[1;33m \u001b[1;32mfrom\u001b[0m \u001b[0mnumpy\u001b[0m \u001b[1;32mimport\u001b[0m \u001b[0mma\u001b[0m\u001b[1;33m\u001b[0m\u001b[1;33m\u001b[0m\u001b[0m\n\u001b[0m\u001b[0;32m     20\u001b[0m \u001b[1;33m\u001b[0m\u001b[0m\n\u001b[0;32m     21\u001b[0m \u001b[1;32mimport\u001b[0m \u001b[0mmatplotlib\u001b[0m \u001b[1;32mas\u001b[0m \u001b[0mmpl\u001b[0m\u001b[1;33m\u001b[0m\u001b[1;33m\u001b[0m\u001b[0m\n",
      "\u001b[1;32mD:\\anaconda3\\lib\\site-packages\\numpy\\ma\\__init__.py\u001b[0m in \u001b[0;36m<module>\u001b[1;34m\u001b[0m\n\u001b[0;32m     40\u001b[0m \u001b[1;33m\u001b[0m\u001b[0m\n\u001b[0;32m     41\u001b[0m \"\"\"\n\u001b[1;32m---> 42\u001b[1;33m \u001b[1;32mfrom\u001b[0m \u001b[1;33m.\u001b[0m \u001b[1;32mimport\u001b[0m \u001b[0mcore\u001b[0m\u001b[1;33m\u001b[0m\u001b[1;33m\u001b[0m\u001b[0m\n\u001b[0m\u001b[0;32m     43\u001b[0m \u001b[1;32mfrom\u001b[0m \u001b[1;33m.\u001b[0m\u001b[0mcore\u001b[0m \u001b[1;32mimport\u001b[0m \u001b[1;33m*\u001b[0m\u001b[1;33m\u001b[0m\u001b[1;33m\u001b[0m\u001b[0m\n\u001b[0;32m     44\u001b[0m \u001b[1;33m\u001b[0m\u001b[0m\n",
      "\u001b[1;32mD:\\anaconda3\\lib\\site-packages\\numpy\\ma\\core.py\u001b[0m in \u001b[0;36m<module>\u001b[1;34m\u001b[0m\n\u001b[0;32m     31\u001b[0m \u001b[1;32mimport\u001b[0m \u001b[0mnumpy\u001b[0m \u001b[1;32mas\u001b[0m \u001b[0mnp\u001b[0m\u001b[1;33m\u001b[0m\u001b[1;33m\u001b[0m\u001b[0m\n\u001b[0;32m     32\u001b[0m \u001b[1;32mimport\u001b[0m \u001b[0mnumpy\u001b[0m\u001b[1;33m.\u001b[0m\u001b[0mcore\u001b[0m\u001b[1;33m.\u001b[0m\u001b[0mumath\u001b[0m \u001b[1;32mas\u001b[0m \u001b[0mumath\u001b[0m\u001b[1;33m\u001b[0m\u001b[1;33m\u001b[0m\u001b[0m\n\u001b[1;32m---> 33\u001b[1;33m \u001b[1;32mimport\u001b[0m \u001b[0mnumpy\u001b[0m\u001b[1;33m.\u001b[0m\u001b[0mcore\u001b[0m\u001b[1;33m.\u001b[0m\u001b[0mnumerictypes\u001b[0m \u001b[1;32mas\u001b[0m \u001b[0mntypes\u001b[0m\u001b[1;33m\u001b[0m\u001b[1;33m\u001b[0m\u001b[0m\n\u001b[0m\u001b[0;32m     34\u001b[0m \u001b[1;32mfrom\u001b[0m \u001b[0mnumpy\u001b[0m\u001b[1;33m.\u001b[0m\u001b[0mcore\u001b[0m \u001b[1;32mimport\u001b[0m \u001b[0mmultiarray\u001b[0m \u001b[1;32mas\u001b[0m \u001b[0mmu\u001b[0m\u001b[1;33m\u001b[0m\u001b[1;33m\u001b[0m\u001b[0m\n\u001b[0;32m     35\u001b[0m \u001b[1;32mfrom\u001b[0m \u001b[0mnumpy\u001b[0m \u001b[1;32mimport\u001b[0m \u001b[0mndarray\u001b[0m\u001b[1;33m,\u001b[0m \u001b[0mamax\u001b[0m\u001b[1;33m,\u001b[0m \u001b[0mamin\u001b[0m\u001b[1;33m,\u001b[0m \u001b[0miscomplexobj\u001b[0m\u001b[1;33m,\u001b[0m \u001b[0mbool_\u001b[0m\u001b[1;33m,\u001b[0m \u001b[0m_NoValue\u001b[0m\u001b[1;33m\u001b[0m\u001b[1;33m\u001b[0m\u001b[0m\n",
      "\u001b[1;32mD:\\anaconda3\\lib\\site-packages\\numpy\\core\\numerictypes.py\u001b[0m in \u001b[0;36m<module>\u001b[1;34m\u001b[0m\n\u001b[0;32m     82\u001b[0m \u001b[1;32mimport\u001b[0m \u001b[0mnumbers\u001b[0m\u001b[1;33m\u001b[0m\u001b[1;33m\u001b[0m\u001b[0m\n\u001b[0;32m     83\u001b[0m \u001b[1;33m\u001b[0m\u001b[0m\n\u001b[1;32m---> 84\u001b[1;33m from numpy.core.multiarray import (\n\u001b[0m\u001b[0;32m     85\u001b[0m         \u001b[0mndarray\u001b[0m\u001b[1;33m,\u001b[0m \u001b[0marray\u001b[0m\u001b[1;33m,\u001b[0m \u001b[0mdtype\u001b[0m\u001b[1;33m,\u001b[0m \u001b[0mdatetime_data\u001b[0m\u001b[1;33m,\u001b[0m \u001b[0mdatetime_as_string\u001b[0m\u001b[1;33m,\u001b[0m\u001b[1;33m\u001b[0m\u001b[1;33m\u001b[0m\u001b[0m\n\u001b[0;32m     86\u001b[0m         \u001b[0mbusday_offset\u001b[0m\u001b[1;33m,\u001b[0m \u001b[0mbusday_count\u001b[0m\u001b[1;33m,\u001b[0m \u001b[0mis_busday\u001b[0m\u001b[1;33m,\u001b[0m \u001b[0mbusdaycalendar\u001b[0m\u001b[1;33m\u001b[0m\u001b[1;33m\u001b[0m\u001b[0m\n",
      "\u001b[1;32mD:\\anaconda3\\lib\\site-packages\\numpy\\core\\multiarray.py\u001b[0m in \u001b[0;36m<module>\u001b[1;34m\u001b[0m\n\u001b[0;32m      8\u001b[0m \u001b[1;33m\u001b[0m\u001b[0m\n\u001b[0;32m      9\u001b[0m \u001b[1;32mimport\u001b[0m \u001b[0mfunctools\u001b[0m\u001b[1;33m\u001b[0m\u001b[1;33m\u001b[0m\u001b[0m\n\u001b[1;32m---> 10\u001b[1;33m \u001b[1;32mfrom\u001b[0m \u001b[1;33m.\u001b[0m \u001b[1;32mimport\u001b[0m \u001b[0moverrides\u001b[0m\u001b[1;33m\u001b[0m\u001b[1;33m\u001b[0m\u001b[0m\n\u001b[0m\u001b[0;32m     11\u001b[0m \u001b[1;32mfrom\u001b[0m \u001b[1;33m.\u001b[0m \u001b[1;32mimport\u001b[0m \u001b[0m_multiarray_umath\u001b[0m\u001b[1;33m\u001b[0m\u001b[1;33m\u001b[0m\u001b[0m\n\u001b[0;32m     12\u001b[0m \u001b[1;32mfrom\u001b[0m \u001b[1;33m.\u001b[0m\u001b[0m_multiarray_umath\u001b[0m \u001b[1;32mimport\u001b[0m \u001b[1;33m*\u001b[0m  \u001b[1;31m# noqa: F403\u001b[0m\u001b[1;33m\u001b[0m\u001b[1;33m\u001b[0m\u001b[0m\n",
      "\u001b[1;32mD:\\anaconda3\\lib\\site-packages\\numpy\\core\\overrides.py\u001b[0m in \u001b[0;36m<module>\u001b[1;34m\u001b[0m\n\u001b[0;32m      6\u001b[0m from numpy.core._multiarray_umath import (\n\u001b[0;32m      7\u001b[0m     add_docstring, implement_array_function, _get_implementing_args)\n\u001b[1;32m----> 8\u001b[1;33m \u001b[1;32mfrom\u001b[0m \u001b[0mnumpy\u001b[0m\u001b[1;33m.\u001b[0m\u001b[0mcompat\u001b[0m\u001b[1;33m.\u001b[0m\u001b[0m_inspect\u001b[0m \u001b[1;32mimport\u001b[0m \u001b[0mgetargspec\u001b[0m\u001b[1;33m\u001b[0m\u001b[1;33m\u001b[0m\u001b[0m\n\u001b[0m\u001b[0;32m      9\u001b[0m \u001b[1;33m\u001b[0m\u001b[0m\n\u001b[0;32m     10\u001b[0m \u001b[1;33m\u001b[0m\u001b[0m\n",
      "\u001b[1;31mModuleNotFoundError\u001b[0m: No module named 'numpy.compat'"
     ]
    }
   ],
   "source": [
    "import numpy as np\n",
    "import matplotlib.pyplot as plt\n",
    "\n",
    "plt.rcParams.update({'font.size': 22})\n",
    "\n",
    "archivoCSV = './mediciones_adc_proyecto.csv'\n",
    "\n",
    "ADC_CSV = np.genfromtxt(archivoCSV, delimiter=',')\n",
    "\n",
    "tension_generador = ADC_CSV[:,0]\n",
    "codigo_ADC = ADC_CSV[:,1]\n",
    "\n",
    "#ploteo transferencia de ADC\n",
    "plt.figure(figsize=(20, 15))\n",
    "plt.plot(tension_generador,codigo_ADC)\n",
    "plt.xlabel('Vin')\n",
    "plt.ylabel('Código Out')\n",
    "plt.grid()\n",
    "plt.show()"
   ]
  },
  {
   "cell_type": "code",
   "execution_count": null,
   "metadata": {
    "colab": {
     "base_uri": "https://localhost:8080/",
     "height": 897
    },
    "executionInfo": {
     "elapsed": 11,
     "status": "ok",
     "timestamp": 1672071681440,
     "user": {
      "displayName": "JOAQUÍN IGNACIO LÓPEZ TRAMULLAS",
      "userId": "08342125477604257516"
     },
     "user_tz": 180
    },
    "id": "sx_w-NNG6FKN",
    "outputId": "3b7300f9-4688-462e-bfa6-e707b8063402"
   },
   "outputs": [
    {
     "data": {
      "image/png": "[encoded data removed]",
      "text/plain": [
       "<Figure size 1440x1080 with 1 Axes>"
      ]
     },
     "metadata": {
      "needs_background": "light"
     },
     "output_type": "display_data"
    }
   ],
   "source": [
    "#Se ignoran los primeros dos puntos de la transferencia, considerados errores cometidos en el ensayo que afectarían notablemente los calculos posteriores\n",
    "tension_generador = ADC_CSV[2:-1,0]\n",
    "codigo_ADC = ADC_CSV[2:-1,1]\n",
    "\n",
    "#from scipy.signal import savgol_filter\n",
    "\n",
    "#codigo_smooth = savgol_filter(codigo_ADC, 11, 1)\n",
    "\n",
    "#codigo_smooth = codigo_smooth.astype(int)\n",
    "\n",
    "#nuevamente ploteo transferencia de ADC\n",
    "plt.figure(figsize=(20, 15))\n",
    "plt.plot(tension_generador,codigo_ADC)\n",
    "plt.xlabel('Vin')\n",
    "plt.ylabel('Código Out')\n",
    "plt.grid()\n",
    "plt.show()"
   ]
  },
  {
   "cell_type": "markdown",
   "metadata": {
    "id": "hjsMma756fwQ"
   },
   "source": [
    "# Histograma de tensiónes de entrada para cada código: intento fallido de obtener tensiones nominales analógicas de cada código\n",
    "\n",
    "A pesar de no haber servido, lo dejamos por sentado por el esfuerzo que nos tomó realizar los algoritmos que funcionaron correctamente...\n",
    "\n",
    "Se realizó una lista que contiene para cada código una matriz que indica la tensión de entrada que produjo dicho código en las mediciones, y cuántas veces apareció (con un máximo de 3 por tomar 3 mediciones para cada entrada).\n",
    "\n",
    "Con dicha lista se hizo un promedio pesado con la intención de obtener la tensión nominal analógica correspondiente a cada código, y así poder calcular el DNL y el INL posteriormente.\n",
    "\n",
    "Problema: Para cada código se produjeron se obtuvieron más de una tensión nominal analógica debido al alto ruido de entrada."
   ]
  },
  {
   "cell_type": "code",
   "execution_count": null,
   "metadata": {
    "colab": {
     "base_uri": "https://localhost:8080/",
     "height": 235
    },
    "executionInfo": {
     "elapsed": 474,
     "status": "error",
     "timestamp": 1672071779283,
     "user": {
      "displayName": "JOAQUÍN IGNACIO LÓPEZ TRAMULLAS",
      "userId": "08342125477604257516"
     },
     "user_tz": 180
    },
    "id": "jjQhFONN6TcF",
    "outputId": "befae91c-bb41-4e01-be73-c6a2dba723dc"
   },
   "outputs": [
    {
     "ename": "IndexError",
     "evalue": "ignored",
     "output_type": "error",
     "traceback": [
      "\u001b[0;31m---------------------------------------------------------------------------\u001b[0m",
      "\u001b[0;31mIndexError\u001b[0m                                Traceback (most recent call last)",
      "\u001b[0;32m<ipython-input-6-ca01a72133d2>\u001b[0m in \u001b[0;36m<module>\u001b[0;34m\u001b[0m\n\u001b[1;32m     18\u001b[0m   \u001b[0mchunk_matriz\u001b[0m \u001b[0;34m=\u001b[0m \u001b[0mnp\u001b[0m\u001b[0;34m.\u001b[0m\u001b[0mempty\u001b[0m\u001b[0;34m(\u001b[0m\u001b[0;34m(\u001b[0m\u001b[0;36m0\u001b[0m\u001b[0;34m,\u001b[0m \u001b[0;36m2\u001b[0m\u001b[0;34m)\u001b[0m\u001b[0;34m)\u001b[0m\u001b[0;34m\u001b[0m\u001b[0;34m\u001b[0m\u001b[0m\n\u001b[1;32m     19\u001b[0m \u001b[0;34m\u001b[0m\u001b[0m\n\u001b[0;32m---> 20\u001b[0;31m   \u001b[0;32mwhile\u001b[0m\u001b[0;34m(\u001b[0m\u001b[0mmatriz_ADC\u001b[0m\u001b[0;34m[\u001b[0m\u001b[0mi\u001b[0m\u001b[0;34m,\u001b[0m\u001b[0;36m1\u001b[0m\u001b[0;34m]\u001b[0m \u001b[0;34m==\u001b[0m \u001b[0mcodigo_actual\u001b[0m\u001b[0;34m)\u001b[0m\u001b[0;34m:\u001b[0m\u001b[0;34m\u001b[0m\u001b[0;34m\u001b[0m\u001b[0m\n\u001b[0m\u001b[1;32m     21\u001b[0m     \u001b[0mchunk_matriz\u001b[0m \u001b[0;34m=\u001b[0m \u001b[0mnp\u001b[0m\u001b[0;34m.\u001b[0m\u001b[0mappend\u001b[0m\u001b[0;34m(\u001b[0m\u001b[0mchunk_matriz\u001b[0m\u001b[0;34m,\u001b[0m\u001b[0;34m[\u001b[0m\u001b[0mmatriz_ADC\u001b[0m\u001b[0;34m[\u001b[0m\u001b[0mi\u001b[0m\u001b[0;34m,\u001b[0m\u001b[0;34m:\u001b[0m\u001b[0;34m]\u001b[0m\u001b[0;34m]\u001b[0m\u001b[0;34m,\u001b[0m \u001b[0maxis\u001b[0m \u001b[0;34m=\u001b[0m \u001b[0;36m0\u001b[0m\u001b[0;34m)\u001b[0m\u001b[0;34m\u001b[0m\u001b[0;34m\u001b[0m\u001b[0m\n\u001b[1;32m     22\u001b[0m     \u001b[0mi\u001b[0m \u001b[0;34m+=\u001b[0m \u001b[0;36m1\u001b[0m\u001b[0;34m\u001b[0m\u001b[0;34m\u001b[0m\u001b[0m\n",
      "\u001b[0;31mIndexError\u001b[0m: index 3069 is out of bounds for axis 0 with size 3069"
     ]
    }
   ],
   "source": [
    "#Para esto hago un histograma que muestra para cáda código de salida del ADC, qué tensiones de entrada aparecen y cuántas veces aparecen (frecuencia)\n",
    "\n",
    "#Genero matriz con primera columna siendo Vin y segunda columna siendo codigo de salida de ADC (ignorando primeras dos filas)\n",
    "matriz_ADC = ADC_CSV[2:-1,:]\n",
    "\n",
    "#Ordeno matriz de menor a mayor basandome en la columna de códigos:\n",
    "matriz_ADC = matriz_ADC[matriz_ADC[:, 1].argsort()]\n",
    "\n",
    "#Divido la matriz general en una lista donde cada elemento sea una matriz que tenga el mismo código en la segunda columna:\n",
    "lista_codigos = list()\n",
    "\n",
    "chunk_matriz = np.array([[]])\n",
    "\n",
    "i = 0\n",
    "\n",
    "while i < len(tension_generador)-1:\n",
    "  codigo_actual = matriz_ADC[i, 1]\n",
    "  chunk_matriz = np.empty((0, 2))\n",
    "\n",
    "  while(matriz_ADC[i,1] == codigo_actual):\n",
    "    chunk_matriz = np.append(chunk_matriz,[matriz_ADC[i,:]], axis = 0)\n",
    "    i += 1\n",
    "  \n",
    "  lista_codigos.append(chunk_matriz)\n",
    "\n",
    "#Para cada array de la lista (cada código), se debe enumerar la cantidad de veces que aparece cada tensión de entrada\n",
    "#A su vez se genera un array de codigos únicos ordenados\n",
    "\n",
    "lista_frecuencias_y_tensiones = list()\n",
    "codigos_ordenados_ADC = np.array([])\n",
    "\n",
    "for matriz_codigo in lista_codigos:\n",
    "  chunk_matriz2 = np.empty((0, 2))\n",
    "  codigos_ordenados_ADC = np.append(codigos_ordenados_ADC, matriz_codigo[0,1])\n",
    "\n",
    "  while matriz_codigo.any():\n",
    "    tension_actual = matriz_codigo[0,0] #siempre\n",
    "  \n",
    "    \n",
    "    frecuencia_valor=0\n",
    "    index_ocurrencias = np.array([], dtype=np.uint32)  #array de indices donde están los valores que coinciden con tension_actual\n",
    "    for (index,valor) in enumerate(matriz_codigo[:,0]):\n",
    "      if(valor == tension_actual):\n",
    "        frecuencia_valor+=1 #incremento la frecuencia del valor\n",
    "        index_ocurrencias = np.append(index_ocurrencias, index) #genero array de indices donde se encuentra dicho valor en matriz_codigo\n",
    "    \n",
    "    matriz_codigo = np.delete(matriz_codigo, index_ocurrencias, axis = 0) #elimino las filas donde aparece el valor\n",
    "\n",
    "    chunk_matriz2=np.append(chunk_matriz2, [[tension_actual,frecuencia_valor]], axis = 0)\n",
    "\n",
    "  lista_frecuencias_y_tensiones.append(chunk_matriz2)\n",
    "\n",
    "#Ahora se genera un array de valores medios de tensión para cada codigo, realizando un promedio pesado por las ocurrencias de cada valor\n",
    "v_mean = np.array([])\n",
    "for matriz in lista_frecuencias_y_tensiones:\n",
    "  sumatoria_pesada = 0\n",
    "  sumatoria_ocurrencias = 0\n",
    "  for row in range(0,len(matriz[:,0])):\n",
    "    sumatoria_pesada += matriz[row,0] * matriz[row,1]\n",
    "    sumatoria_ocurrencias += matriz[row,1]\n",
    "  v_mean = np.append(v_mean, sumatoria_pesada / sumatoria_ocurrencias)\n",
    "\n",
    "\n",
    "\n",
    "v_mean_ordbycode = v_mean\n",
    "codigos_ordenados_ADC_ordbycode = codigos_ordenados_ADC\n",
    "\n",
    "# Estan ordenando y luego volviendo a ordenar por un vector ordenado!\n",
    "#v_mean = v_mean[v_mean.argsort()]\n",
    "#codigos_ordenados_ADC = codigos_ordenados_ADC[v_mean.argsort()]\n",
    "\n",
    "# Esa asi!\n",
    "orden = v_mean.argsort()\n",
    "v_mean = v_mean[orden]\n",
    "codigos_ordenados_ADC = codigos_ordenados_ADC[orden]\n",
    "\n",
    "#SE PLOTEA\n",
    "plt.figure(figsize=(20, 15))\n",
    "plt.plot(v_mean, codigos_ordenados_ADC, color='blue',label='Transferencia Real')\n",
    "plt.xlabel('Vin')\n",
    "plt.ylabel('Código Out')\n",
    "plt.grid()\n",
    "plt.legend()\n",
    "plt.show()\n",
    "\n"
   ]
  },
  {
   "cell_type": "markdown",
   "metadata": {
    "id": "ynGBQ4bBiElo"
   },
   "source": [
    "### Formas mas sencillas de hacer eso"
   ]
  },
  {
   "cell_type": "code",
   "execution_count": null,
   "metadata": {
    "id": "qtMpVvWciDW2"
   },
   "outputs": [],
   "source": [
    "import pandas as pd # Congrats, you are now a datascientist!\n",
    "\n",
    "\n",
    "# Armo un dataframe\n",
    "meassure_df = pd.DataFrame(matriz_ADC, columns=['Tension', 'Codigo'])\n",
    "# Agrupo por codigo y calculo la media\n",
    "means_df = meassure_df.groupby('Codigo').mean()\n",
    "#means_df = meassure_df.groupby('Codigo').agg(lambda x: pd.Series.mode(x)[0])  # Esto es la moda, el valor mas repetido \n",
    "\n",
    "# ----------------- Codigo para limpiar que no es necesario en realidad\n",
    "## Saco cuantas cuentas por puntos tenia (auxiliar)\n",
    "#counts_df = meassure_df.groupby('Codigo').count()\n",
    "#means_df['Cuentas'] = counts_df['Tension'] # Las cuentas estan en la columna tension pq asi funciona el groupby\n",
    "## Elimino las cuentas que no medi al menos N veces\n",
    "#N = 1\n",
    "#means_df = means_df.loc[means_df['Cuentas'] >= N]\n",
    "\n",
    "\n",
    "# Ordeno\n",
    "means_df.sort_values('Tension', inplace=True)\n",
    "# Vuelvo al numpy\n",
    "v_mean_2 = means_df['Tension'].values\n",
    "codigos_ordenados_ADC_2 = means_df.index.values\n",
    "\n",
    "#SE PLOTEA\n",
    "plt.figure(figsize=(20, 15))\n",
    "plt.plot(v_mean_2, codigos_ordenados_ADC_2, '.', color='red',label='Transferencia Real -- Pandas')\n",
    "plt.plot(v_mean, codigos_ordenados_ADC, color='blue',label='Transferencia Real -- Metodo suyo')\n",
    "plt.xlabel('Vin')\n",
    "plt.ylabel('Código Out')\n",
    "plt.grid()\n",
    "plt.legend()\n",
    "plt.show()\n",
    "\n"
   ]
  },
  {
   "cell_type": "markdown",
   "metadata": {
    "id": "pACkez17WCRG"
   },
   "source": [
    "# Calculo DNL"
   ]
  },
  {
   "cell_type": "code",
   "execution_count": null,
   "metadata": {
    "id": "RPJOWPEcWB5O"
   },
   "outputs": [],
   "source": [
    "offset = codigos_ordenados_ADC[0]\n",
    "\n",
    "lsb_ideal  = (v_mean[-1]-v_mean[0]) / (codigos_ordenados_ADC[-1] - offset) \n",
    "\n",
    "DNL = np.zeros(len(v_mean))\n",
    "missing_code = 0\n",
    "for i in range(0,len(v_mean)-1):\n",
    "  DNL[i] = np.abs((v_mean_ordbycode[i+1]- v_mean_ordbycode[i])/lsb_ideal - 1)\n",
    "  if DNL[i] >1:\n",
    "    missing_code+=1\n",
    "\n",
    "print('Offset = %d códigos' %offset)\n",
    "print('LSB ideal = %f v ' %lsb_ideal)\n",
    "print('MAX DNL = %f codigos ' %DNL[np.argmax(DNL)])\n",
    "print('Missing Codes = %d códigos ' %missing_code)\n",
    "\n",
    "# Curva Ideal contemplando error de offset y de ganancia\n",
    "#vin_ideal,step=np.linspace(v_mean[0],v_mean[-1],int(codigos_ordenados_ADC[-1]-codigos_ordenados_ADC[0]+1),retstep=True,endpoint=True)\n",
    "codigos_ideal  = v_mean/lsb_ideal + offset\n",
    "\n",
    "fig,ax = plt.subplots(2,1,constrained_layout=True,figsize=(20,20))\n",
    "ax[0].plot(v_mean, codigos_ordenados_ADC, color='blue',label='Transferencia Real')\n",
    "ax[0].plot(v_mean, codigos_ideal, '--', color='black',label='Transferencia Lineal (con Offset y Gain error)')\n",
    "\n",
    "ax[0].set_xlabel('Vin')\n",
    "ax[0].set_ylabel('Código Out')\n",
    "ax[0].grid()\n",
    "ax[0].legend()\n",
    "\n",
    "ax[1].plot(codigos_ordenados_ADC_ordbycode,DNL , color='blue',label='DNL')\n",
    "ax[1].axhline(y = 1 ,color = 'r', linestyle = '-',label='LSB Ideal')\n",
    "ax[1].set_xlabel('Code')\n",
    "ax[1].set_ylabel('DNL')\n",
    "ax[1].grid()\n",
    "ax[1].legend()\n",
    "\n",
    "plt.show()"
   ]
  },
  {
   "cell_type": "markdown",
   "metadata": {
    "id": "Ph01lo6TjxMe"
   },
   "source": [
    "# INL End-Point"
   ]
  },
  {
   "cell_type": "code",
   "execution_count": null,
   "metadata": {
    "id": "r1posb6oVPGh"
   },
   "outputs": [],
   "source": [
    "#Fiteo Curva\n",
    "from scipy.optimize import curve_fit\n",
    "\n",
    "# ------------------ Deben usar una recta, esto es un polinomio de grado 6...\n",
    "#def objective(x, a, b, c, d,e,f,g):\n",
    "#\treturn f+(a * x) + (b * x**2) + (c * x**3) + (d * x**4)+(e * x**5)+(g * x**6)\n",
    "\n",
    "#popt, _ = curve_fit(objective, v_mean, codigos_ordenados_ADC)\n",
    "\n",
    "#a, b, c, d,e,f,g = popt\n",
    "\n",
    "#y_line = objective(v_mean, a, b, c, d, e, f, g)\n",
    "\n",
    "#y_line = y_line.astype(int)\n",
    "\n",
    "def objective(x, a, b):\n",
    "\treturn (a * x) + b\n",
    "\n",
    "popt, _ = curve_fit(objective, v_mean, codigos_ordenados_ADC)\n",
    "\n",
    "a, b = popt\n",
    "\n",
    "y_line = objective(v_mean, a, b)\n",
    "\n",
    "y_line = y_line.astype(int)\n",
    "\n",
    "\n",
    "# Estos son los codigos fiteados por la mejor recta\n",
    "codigos_ideal_fit  = y_line\n",
    "# Codigos, pero para las tensiones ordenadas por codigo\n",
    "codigos_ideal_fit  = objective(v_mean_ordbycode, a, b).astype(int)\n",
    "\n",
    "#Calculo de INL\n",
    "INL_metodo1 = np.zeros(len(v_mean))\n",
    "INL_metodo2 = np.zeros(len(v_mean))\n",
    "\n",
    "#Fórmula de la nota de aplicación:\n",
    "for i in range(0,len(v_mean)-1):\n",
    "  INL_metodo1[i] = np.abs((v_mean_ordbycode[i]- v_mean_ordbycode[0])/lsb_ideal - codigos_ordenados_ADC_ordbycode[i]) \n",
    "  \n",
    "#PROBLEMA: Al no tener V_ZERO (porque nunca llegamos a que el ADC tenga 0 en el código de salida).\n",
    "\n",
    "#Por esta razón, se realiza un segundo método: una resta punto a punto entre la transferencia real y la lineal que contempla offset y gain error\n",
    "for i in range(0,len(codigos_ordenados_ADC)-1):\n",
    "  #INL_metodo2[i] = np.abs(codigos_ordenados_ADC[i] - codigos_ideal[i]) # Estos son los codigos solo corrigiendo offset y ganancia\n",
    "  INL_metodo2[i] = np.abs(codigos_ordenados_ADC_ordbycode[i] - codigos_ideal_fit[i])\n",
    "  \n",
    "\n",
    "# ploteo fiteo, y transferencia ideal (contemplando Offset y error de ganancia)\n",
    "fig,ax = plt.subplots(2,1,constrained_layout=True,figsize=(20,20))\n",
    "ax[0].plot(v_mean, y_line, color='red',label='Transferencia Real Fitteada')\n",
    "ax[0].plot(v_mean, codigos_ordenados_ADC, label = 'Transferencia Real')\n",
    "#ax[0].plot(v_mean, codigos_ideal, '--', color='black',label='Transferencia Lineal (con Offset y Gain error)')\n",
    "ax[0].set_xlabel('Vin')\n",
    "ax[0].set_ylabel('Código Out')\n",
    "ax[0].grid()\n",
    "ax[0].legend()\n",
    "\n",
    "#ax[1].plot(codigos_ordenados_ADC_ordbycode,INL_metodo1 , color='blue',label='INL_Método1')\n",
    "ax[1].plot(codigos_ordenados_ADC_ordbycode,INL_metodo2 , color='red',label='INL')\n",
    "ax[1].set_xlabel('Code')\n",
    "ax[1].set_ylabel('INL')\n",
    "ax[1].grid()\n",
    "ax[1].legend()\n",
    "plt.show()\n",
    "\n",
    "print('MAX INL = %f codigos ' %INL_metodo2[np.argmax(INL_metodo2)])"
   ]
  }
 ],
 "metadata": {
  "colab": {
   "provenance": []
  },
  "kernelspec": {
   "display_name": "Python 3 (ipykernel)",
   "language": "python",
   "name": "python3"
  },
  "language_info": {
   "codemirror_mode": {
    "name": "ipython",
    "version": 3
   },
   "file_extension": ".py",
   "mimetype": "text/x-python",
   "name": "python",
   "nbconvert_exporter": "python",
   "pygments_lexer": "ipython3",
   "version": "3.9.7"
  },
  "vscode": {
   "interpreter": {
    "hash": "b09ec625f77bf4fd762565a912b97636504ad6ec901eb2d0f4cf5a7de23e1ee5"
   }
  }
 },
 "nbformat": 4,
 "nbformat_minor": 1
}
